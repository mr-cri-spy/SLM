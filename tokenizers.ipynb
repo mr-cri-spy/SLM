

{
  "nbformat": 4,
  "nbformat_minor": 0,
  "metadata": {
    "colab": {
      "provenance": [],
      "authorship_tag": "ABX9TyP31H4tebqSE5cU5y9tZhOR",
      "include_colab_link": true
    },
    "kernelspec": {
      "name": "python3",
      "display_name": "Python 3"
    },
    "language_info": {
      "name": "python"
    }
  },
  "cells": [
    {
      "cell_type": "markdown",
      "metadata": {
        "id": "view-in-github",
        "colab_type": "text"
      },
      "source": [
        "<a href=\"https://colab.research.google.com/github/mr-cri-spy/SLM/blob/main/tokenizers.ipynb\" target=\"_parent\"><img src=\"https://colab.research.google.com/assets/colab-badge.svg\" alt=\"Open In Colab\"/></a>"
      ]
    },
    {
      "cell_type": "code",
      "execution_count": 1,
      "metadata": {
        "id": "tKR-hjnAGfh8"
      },
      "outputs": [],
      "source": [
        "from transformers import AutoTokenizer, BertModel\n",
        "import pandas as pd"
      ]
    },
    {
      "cell_type": "code",
      "source": [
        "model_name = \"bert-base-cased\""
      ],
      "metadata": {
        "id": "njGA4Og3Gr4a"
      },
      "execution_count": 2,
      "outputs": []
    },
    {
      "cell_type": "code",
      "source": [
        "sentence = \"All is Well, Study well\""
      ],
      "metadata": {
        "id": "j7ZVa56fH-AN"
      },
      "execution_count": 5,
      "outputs": []
    },
    {
      "cell_type": "code",
      "source": [
        "token = tokenizer.tokenize(sentence)"
      ],
      "metadata": {
        "id": "Q4zNnvpmI32b"
      },
      "execution_count": 8,
      "outputs": []
    },
    {
      "cell_type": "code",
      "source": [
        "print(token)"
      ],
      "metadata": {
        "colab": {
          "base_uri": "https://localhost:8080/"
        },
        "id": "dYR86Ar2JDxy",
        "outputId": "37a68733-f2cf-4024-a38c-28ab25af58e3"
      },
      "execution_count": 9,
      "outputs": [
        {
          "output_type": "stream",
          "name": "stdout",
          "text": [
            "['All', 'is', 'Well', ',', 'Study', 'well']\n"
          ]
        }
      ]
    },
    {
      "cell_type": "code",
      "source": [
        "vocab_df = pd.DataFrame({\"token\":vocab.keys(), \"token_id\":vocab.values()})"
      ],
      "metadata": {
        "id": "GZaKBdymRcr8"
      },
      "execution_count": 11,
      "outputs": []
    },
    {
      "cell_type": "code",
      "source": [
        "vocab_df = vocab_df.sort_values(by=\"token_id\").set_index(\"token_id\")"
      ],
      "metadata": {
        "id": "XOhLWdUYRdfI"
      },
      "execution_count": 12,
      "outputs": []
    },
    {
      "cell_type": "code",
      "source": [
        "print(vocab_df.head(100))"
      ],
      "metadata": {
        "colab": {
          "base_uri": "https://localhost:8080/"
        },
        "id": "WLxBJlTuSvWp",
        "outputId": "410373d2-9391-4d90-b62f-3a8037143e7b"
      },
      "execution_count": 13,
      "outputs": [
        {
          "output_type": "stream",
          "name": "stdout",
          "text": [
            "              token\n",
            "token_id           \n",
            "0             [PAD]\n",
            "1         [unused1]\n",
            "2         [unused2]\n",
            "3         [unused3]\n",
            "4         [unused4]\n",
            "...             ...\n",
            "28991           ##）\n",
            "28992           ##，\n",
            "28993           ##－\n",
            "28994           ##／\n",
            "28995           ##：\n",
            "\n",
            "[28996 rows x 1 columns]\n"
          ]
        }
      ]
    },
    {
      "cell_type": "code",
      "source": [
        "token_ids = tokenizer.encode(sentence)"
      ],
      "metadata": {
        "id": "to0jvozJTEfx"
      },
      "execution_count": 17,
      "outputs": []
    },
    {
      "cell_type": "code",
      "source": [
        "print(token_ids)"
      ],
      "metadata": {
        "colab": {
          "base_uri": "https://localhost:8080/"
        },
        "id": "oTEwD6hhBXzE",
        "outputId": "8cd14cb3-5cc1-40aa-e711-1b86f701c791"
      },
      "execution_count": 18,
      "outputs": [
        {
          "output_type": "stream",
          "name": "stdout",
          "text": [
            "[101, 1398, 1110, 2119, 117, 8690, 1218, 102]\n"
          ]
        }
      ]
    },
    {
      "cell_type": "code",
      "source": [
        "print(len(token))\n",
        "print(len(token_ids))"
      ],
      "metadata": {
        "colab": {
          "base_uri": "https://localhost:8080/"
        },
        "id": "4WLO2AkpBdSP",
        "outputId": "cf789f32-cc61-4db6-d1ca-b486b998e461"
      },
      "execution_count": 19,
      "outputs": [
        {
          "output_type": "stream",
          "name": "stdout",
          "text": [
            "6\n",
            "8\n"
          ]
        }
      ]
    },
    {
      "cell_type": "code",
      "source": [
        "print(vocab_df.iloc[101])\n",
        "print(vocab_df.iloc[102])"
      ],
      "metadata": {
        "colab": {
          "base_uri": "https://localhost:8080/"
        },
        "id": "qZM7hY0lBukx",
        "outputId": "5b84e5e5-8cc2-4cbb-8acb-cbcfba48609d"
      },
      "execution_count": 20,
      "outputs": [
        {
          "output_type": "stream",
          "name": "stdout",
          "text": [
            "token    [CLS]\n",
            "Name: 101, dtype: object\n",
            "token    [SEP]\n",
            "Name: 102, dtype: object\n"
          ]
        }
      ]
    },
    {
      "cell_type": "code",
      "source": [
        "print(list(zip(token, token_ids[1:-1])))"
      ],
      "metadata": {
        "colab": {
          "base_uri": "https://localhost:8080/"
        },
        "id": "atlCTzt6CPsy",
        "outputId": "b60d2e36-6a6a-4d72-8331-51232e42bef0"
      },
      "execution_count": 21,
      "outputs": [
        {
          "output_type": "stream",
          "name": "stdout",
          "text": [
            "[('All', 1398), ('is', 1110), ('Well', 2119), (',', 117), ('Study', 8690), ('well', 1218)]\n"
          ]
        }
      ]
    },
    {
      "cell_type": "code",
      "source": [
        "print(tokenizer.decode(token_ids))"
      ],
      "metadata": {
        "colab": {
          "base_uri": "https://localhost:8080/"
        },
        "id": "R2NHxZV8Cr16",
        "outputId": "e8c7c25f-e2ae-4a93-c8cd-7917e1a1f7f2"
      },
      "execution_count": 22,
      "outputs": [
        {
          "output_type": "stream",
          "name": "stdout",
          "text": [
            "[CLS] All is Well, Study well [SEP]\n"
          ]
        }
      ]
    },
    {
      "cell_type": "code",
      "source": [
        "tokenizer_out = tokenizer(sentence)"
      ],
      "metadata": {
        "id": "XZaMIcyJDA-Y"
      },
      "execution_count": 23,
      "outputs": []
    },
    {
      "cell_type": "code",
      "source": [
        "print(tokenizer_out)"
      ],
      "metadata": {
        "colab": {
          "base_uri": "https://localhost:8080/"
        },
        "id": "pbYUgR8kEkNq",
        "outputId": "c9ebba4a-73b0-4779-f749-59569a181947"
      },
      "execution_count": 24,
      "outputs": [
        {
          "output_type": "stream",
          "name": "stdout",
          "text": [
            "{'input_ids': [101, 1398, 1110, 2119, 117, 8690, 1218, 102], 'token_type_ids': [0, 0, 0, 0, 0, 0, 0, 0], 'attention_mask': [1, 1, 1, 1, 1, 1, 1, 1]}\n"
          ]
        }
      ]
    },
    {
      "cell_type": "code",
      "source": [
        "sentence2 =sentence.replace(\"well\",\"God\")"
      ],
      "metadata": {
        "id": "5_pYe9XBEoeN"
      },
      "execution_count": 25,
      "outputs": []
    },
    {
      "cell_type": "code",
      "source": [
        "tokenixer_out2 = tokenizer([sentence,sentence2],padding=True)"
      ],
      "metadata": {
        "id": "hOhEnWmTFD8Z"
      },
      "execution_count": 30,
      "outputs": []
    },
    {
      "cell_type": "code",
      "source": [
        "print(tokenixer_out2)"
      ],
      "metadata": {
        "colab": {
          "base_uri": "https://localhost:8080/"
        },
        "id": "Azv4NKRHFdgG",
        "outputId": "eaa70958-2068-4da3-b124-4c70a71c3142"
      },
      "execution_count": 31,
      "outputs": [
        {
          "output_type": "stream",
          "name": "stdout",
          "text": [
            "{'input_ids': [[101, 1398, 1110, 2119, 117, 8690, 1218, 102], [101, 1398, 1110, 2119, 117, 8690, 1875, 102]], 'token_type_ids': [[0, 0, 0, 0, 0, 0, 0, 0], [0, 0, 0, 0, 0, 0, 0, 0]], 'attention_mask': [[1, 1, 1, 1, 1, 1, 1, 1], [1, 1, 1, 1, 1, 1, 1, 1]]}\n"
          ]
        }
      ]
    },
    {
      "cell_type": "code",
      "source": [
        "tokenizer.decode(tokenixer_out2[\"input_ids\"][0])\n",
        "tokenizer.decode(tokenixer_out2[\"input_ids\"][1])"
      ],
      "metadata": {
        "colab": {
          "base_uri": "https://localhost:8080/",
          "height": 36
        },
        "id": "GqF-Ff6iFjGw",
        "outputId": "9fa1b4a3-30ab-4b99-ba02-acd19a155fae"
      },
      "execution_count": 35,
      "outputs": [
        {
          "output_type": "execute_result",
          "data": {
            "text/plain": [
              "'[CLS] All is Well, Study God [SEP]'"
            ],
            "application/vnd.google.colaboratory.intrinsic+json": {
              "type": "string"
            }
          },
          "metadata": {},
          "execution_count": 35
        }
      ]
    },
    {
      "cell_type": "code",
      "source": [],
      "metadata": {
        "id": "WAIGt2yKGgsH"
      },
      "execution_count": null,
      "outputs": []
    }
  ]
}
