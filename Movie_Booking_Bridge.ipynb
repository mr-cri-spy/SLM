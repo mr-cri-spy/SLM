{
  "nbformat": 4,
  "nbformat_minor": 0,
  "metadata": {
    "colab": {
      "provenance": [],
      "gpuType": "T4",
      "authorship_tag": "ABX9TyPAlQHlCe3v4RaRru0xyodh",
      "include_colab_link": true
    },
    "kernelspec": {
      "name": "python3",
      "display_name": "Python 3"
    },
    "language_info": {
      "name": "python"
    },
    "accelerator": "GPU"
  },
  "cells": [
    {
      "cell_type": "markdown",
      "metadata": {
        "id": "view-in-github",
        "colab_type": "text"
      },
      "source": [
        "<a href=\"https://colab.research.google.com/github/mr-cri-spy/SLM/blob/main/Movie_Booking_Bridge.ipynb\" target=\"_parent\"><img src=\"https://colab.research.google.com/assets/colab-badge.svg\" alt=\"Open In Colab\"/></a>"
      ]
    },
    {
      "cell_type": "code",
      "execution_count": 1,
      "metadata": {
        "colab": {
          "base_uri": "https://localhost:8080/"
        },
        "id": "2lMNwuw70x7j",
        "outputId": "b9bcd2e0-a7f8-463e-c25e-fa497c464774"
      },
      "outputs": [
        {
          "output_type": "stream",
          "name": "stdout",
          "text": [
            "Requirement already satisfied: fastapi in /usr/local/lib/python3.11/dist-packages (0.116.1)\n",
            "Requirement already satisfied: uvicorn in /usr/local/lib/python3.11/dist-packages (0.35.0)\n",
            "Requirement already satisfied: openai in /usr/local/lib/python3.11/dist-packages (1.97.1)\n",
            "Requirement already satisfied: requests in /usr/local/lib/python3.11/dist-packages (2.32.3)\n",
            "Requirement already satisfied: beautifulsoup4 in /usr/local/lib/python3.11/dist-packages (4.13.4)\n",
            "Requirement already satisfied: starlette<0.48.0,>=0.40.0 in /usr/local/lib/python3.11/dist-packages (from fastapi) (0.47.2)\n",
            "Requirement already satisfied: pydantic!=1.8,!=1.8.1,!=2.0.0,!=2.0.1,!=2.1.0,<3.0.0,>=1.7.4 in /usr/local/lib/python3.11/dist-packages (from fastapi) (2.11.7)\n",
            "Requirement already satisfied: typing-extensions>=4.8.0 in /usr/local/lib/python3.11/dist-packages (from fastapi) (4.14.1)\n",
            "Requirement already satisfied: click>=7.0 in /usr/local/lib/python3.11/dist-packages (from uvicorn) (8.2.1)\n",
            "Requirement already satisfied: h11>=0.8 in /usr/local/lib/python3.11/dist-packages (from uvicorn) (0.16.0)\n",
            "Requirement already satisfied: anyio<5,>=3.5.0 in /usr/local/lib/python3.11/dist-packages (from openai) (4.9.0)\n",
            "Requirement already satisfied: distro<2,>=1.7.0 in /usr/local/lib/python3.11/dist-packages (from openai) (1.9.0)\n",
            "Requirement already satisfied: httpx<1,>=0.23.0 in /usr/local/lib/python3.11/dist-packages (from openai) (0.28.1)\n",
            "Requirement already satisfied: jiter<1,>=0.4.0 in /usr/local/lib/python3.11/dist-packages (from openai) (0.10.0)\n",
            "Requirement already satisfied: sniffio in /usr/local/lib/python3.11/dist-packages (from openai) (1.3.1)\n",
            "Requirement already satisfied: tqdm>4 in /usr/local/lib/python3.11/dist-packages (from openai) (4.67.1)\n",
            "Requirement already satisfied: charset-normalizer<4,>=2 in /usr/local/lib/python3.11/dist-packages (from requests) (3.4.2)\n",
            "Requirement already satisfied: idna<4,>=2.5 in /usr/local/lib/python3.11/dist-packages (from requests) (3.10)\n",
            "Requirement already satisfied: urllib3<3,>=1.21.1 in /usr/local/lib/python3.11/dist-packages (from requests) (2.5.0)\n",
            "Requirement already satisfied: certifi>=2017.4.17 in /usr/local/lib/python3.11/dist-packages (from requests) (2025.7.14)\n",
            "Requirement already satisfied: soupsieve>1.2 in /usr/local/lib/python3.11/dist-packages (from beautifulsoup4) (2.7)\n",
            "Requirement already satisfied: httpcore==1.* in /usr/local/lib/python3.11/dist-packages (from httpx<1,>=0.23.0->openai) (1.0.9)\n",
            "Requirement already satisfied: annotated-types>=0.6.0 in /usr/local/lib/python3.11/dist-packages (from pydantic!=1.8,!=1.8.1,!=2.0.0,!=2.0.1,!=2.1.0,<3.0.0,>=1.7.4->fastapi) (0.7.0)\n",
            "Requirement already satisfied: pydantic-core==2.33.2 in /usr/local/lib/python3.11/dist-packages (from pydantic!=1.8,!=1.8.1,!=2.0.0,!=2.0.1,!=2.1.0,<3.0.0,>=1.7.4->fastapi) (2.33.2)\n",
            "Requirement already satisfied: typing-inspection>=0.4.0 in /usr/local/lib/python3.11/dist-packages (from pydantic!=1.8,!=1.8.1,!=2.0.0,!=2.0.1,!=2.1.0,<3.0.0,>=1.7.4->fastapi) (0.4.1)\n"
          ]
        }
      ],
      "source": [
        "!pip install fastapi uvicorn openai requests beautifulsoup4\n"
      ]
    },
    {
      "cell_type": "markdown",
      "source": [
        " Installed Necessary Libraries"
      ],
      "metadata": {
        "id": "JMYFuMm-1Dpl"
      }
    },
    {
      "cell_type": "markdown",
      "source": [
        "Creating FastAPI Server"
      ],
      "metadata": {
        "id": "z5_03CYb1Hc_"
      }
    },
    {
      "cell_type": "code",
      "source": [
        "import nest_asyncio\n",
        "import uvicorn\n",
        "from fastapi import FastAPI, Request\n",
        "import openai\n",
        "import requests"
      ],
      "metadata": {
        "id": "Ltjb7kMZ0_Hr"
      },
      "execution_count": 2,
      "outputs": []
    },
    {
      "cell_type": "markdown",
      "source": [
        "# FastAPI Setup"
      ],
      "metadata": {
        "id": "JAM_tazO1dWu"
      }
    },
    {
      "cell_type": "code",
      "source": [
        "nest_asyncio.apply()\n",
        "app = FastAPI()\n",
        "\n",
        "OPENROUTER_API_KEY = \"API\"  # Replace with your OpenRouter API key\n",
        "\n",
        "@app.get(\"/\")\n",
        "def read_root():\n",
        "    return {\"status\": \"Crisbee backend running\"}\n",
        "\n",
        "@app.post(\"/ask\")\n",
        "async def ask_question(request: Request):\n",
        "    data = await request.json()\n",
        "    question = data.get(\"question\")\n",
        "\n",
        "    # Simulated movie data (replace with actual scraping logic later)\n",
        "    movie_data = \"\"\"\n",
        "    - PVR Mysore: Su From So at 7:30PM - 5 seats available in Row F\n",
        "    - INOX Mall: Su From So at 8:00PM - 4 seats available Row G\n",
        "    \"\"\"\n",
        "\n",
        "    answer = query_llm(question, movie_data)\n",
        "    return {\"answer\": answer}\n",
        "\n",
        "def query_llm(user_query, context_data):\n",
        "    prompt = f\"\"\"\n",
        "    You are a smart assistant for Mysore movies. Based on the following real-time data:\n",
        "    {context_data}\n",
        "\n",
        "    Answer this user question: {user_query}\n",
        "    \"\"\"\n",
        "\n",
        "    headers = {\n",
        "        \"Authorization\": f\"Bearer {OPENROUTER_API_KEY}\",\n",
        "        \"Content-Type\": \"application/json\"\n",
        "    }\n",
        "\n",
        "    body = {\n",
        "        \"model\": \"openai/gpt-3.5-turbo\",\n",
        "        \"messages\": [{\"role\": \"user\", \"content\": prompt}]\n",
        "    }\n",
        "\n",
        "    res = requests.post(\"https://openrouter.ai/api/v1/chat/completions\", headers=headers, json=body)\n",
        "    return res.json()[\"choices\"][0][\"message\"][\"content\"]"
      ],
      "metadata": {
        "id": "T-pcgRB11mZn"
      },
      "execution_count": 3,
      "outputs": []
    },
    {
      "cell_type": "markdown",
      "source": [
        "# Run the FastAPI app on Colab"
      ],
      "metadata": {
        "id": "BqNkN3S31vfu"
      }
    },
    {
      "cell_type": "code",
      "source": [
        "uvicorn.run(app, host=\"0.0.0.0\", port=9001)"
      ],
      "metadata": {
        "colab": {
          "base_uri": "https://localhost:8080/"
        },
        "id": "l63M1vxV162W",
        "outputId": "6de26088-7dc2-4c17-be8e-0fc502980025"
      },
      "execution_count": null,
      "outputs": [
        {
          "output_type": "stream",
          "name": "stderr",
          "text": [
            "INFO:     Started server process [551]\n",
            "INFO:     Waiting for application startup.\n",
            "INFO:     Application startup complete.\n",
            "INFO:     Uvicorn running on http://0.0.0.0:9001 (Press CTRL+C to quit)\n"
          ]
        }
      ]
    },
    {
      "cell_type": "markdown",
      "source": [
        "Expose the FastAPI Server using ngrok"
      ],
      "metadata": {
        "id": "XPQl95Kk2BcE"
      }
    },
    {
      "cell_type": "code",
      "source": [
        "!pip install pyngrok\n"
      ],
      "metadata": {
        "colab": {
          "base_uri": "https://localhost:8080/"
        },
        "id": "RJgPtF6m2CAm",
        "outputId": "0f409b44-492e-4309-a7aa-6d340b088ccb"
      },
      "execution_count": 4,
      "outputs": [
        {
          "output_type": "stream",
          "name": "stdout",
          "text": [
            "Collecting pyngrok\n",
            "  Downloading pyngrok-7.2.13-py3-none-any.whl.metadata (8.1 kB)\n",
            "Requirement already satisfied: PyYAML>=5.1 in /usr/local/lib/python3.11/dist-packages (from pyngrok) (6.0.2)\n",
            "Downloading pyngrok-7.2.13-py3-none-any.whl (25 kB)\n",
            "Installing collected packages: pyngrok\n",
            "Successfully installed pyngrok-7.2.13\n"
          ]
        }
      ]
    },
    {
      "cell_type": "code",
      "source": [
        "from pyngrok import ngrok\n",
        "\n",
        "# Open a ngrok tunnel to the FastAPI app\n",
        "public_url = ngrok.connect(9001)\n",
        "print(f\"FastAPI is live at: {public_url}\")\n"
      ],
      "metadata": {
        "id": "WimZOCwW2Lsp"
      },
      "execution_count": null,
      "outputs": []
    },
    {
      "cell_type": "markdown",
      "source": [
        "Test the Backend in Google Colab"
      ],
      "metadata": {
        "id": "eGQaQCv52Qi9"
      }
    },
    {
      "cell_type": "code",
      "source": [
        "response = requests.post(f\"{public_url}/ask\", json={\"question\": \"Where can I book 4 seats for Su From So today after  8PM in Mysore?\"})\n",
        "print(response.json())\n"
      ],
      "metadata": {
        "id": "Dg49IISu2SbG"
      },
      "execution_count": null,
      "outputs": []
    }
  ]
}